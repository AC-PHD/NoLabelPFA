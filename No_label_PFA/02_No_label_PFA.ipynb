{
 "cells": [
  {
   "cell_type": "code",
   "execution_count": null,
   "id": "471946ab-cf6e-4b26-ab23-29382e5df5e4",
   "metadata": {},
   "outputs": [],
   "source": [
    "import sys\n",
    "print(sys.version)"
   ]
  },
  {
   "cell_type": "code",
   "execution_count": null,
   "id": "ca2ad499-4610-4354-94b9-8d8e36846fcd",
   "metadata": {},
   "outputs": [],
   "source": [
    "import warnings\n",
    "from numba.core.errors import NumbaDeprecationWarning, NumbaPendingDeprecationWarning\n",
    "warnings.simplefilter('ignore', category=NumbaDeprecationWarning)\n",
    "warnings.simplefilter('ignore', category=NumbaPendingDeprecationWarning)"
   ]
  },
  {
   "cell_type": "code",
   "execution_count": null,
   "id": "112dde55-7a1c-4e5d-8495-0ad465ed37ef",
   "metadata": {},
   "outputs": [],
   "source": [
    "from src.no_label_pfa.execute_PFA import pfa\n",
    "from src.no_label_pfa.tsne import tsne\n",
    "from src.no_label_pfa.umap import umap\n",
    "from src.no_label_pfa.dbscan import dbscan\n",
    "from src.no_label_pfa.hdbscan import hdbscan\n",
    "from src.no_label_pfa.find_cluster_differences import find_cluster_differences\n",
    "from src.no_label_pfa.compare_dbscan_labels import compare_dbscan_labels\n",
    "from src.no_label_pfa.compare_hdbscan_labels import compare_hdbscan_labels\n",
    "from src.no_label_pfa.split_data import split_data\n",
    "from src.no_label_pfa.get_mutual_information import get_mutual_information\n",
    "from src.no_label_pfa.validate_feature_selection import validate_feature_selection\n",
    "from src.no_label_pfa.shaply_explanation import shaply_explanation\n",
    "from src.no_label_pfa.tree_explanation import tree_explanation"
   ]
  },
  {
   "cell_type": "code",
   "execution_count": null,
   "id": "1ee21fd8-b5be-44ed-9286-9f375c6e1319",
   "metadata": {},
   "outputs": [],
   "source": [
    "#This is for Test purpose for the full analysis of this dataset \n",
    "path_original_data=\"preprocessed_data.csv\""
   ]
  },
  {
   "cell_type": "code",
   "execution_count": null,
   "id": "d090d7a3-0ae1-4d8e-86de-ed85c8ec4138",
   "metadata": {},
   "outputs": [],
   "source": [
    "#Please adjust cluster_size and min_n_datapoints_a_bin suitable for your set\n",
    "principal_features = pfa(path=path_original_data, cluster_size=300, min_n_datapoints_a_bin=1000)"
   ]
  },
  {
   "cell_type": "code",
   "execution_count": null,
   "id": "d305c8dc-2dfd-4671-83e8-9ad244be7128",
   "metadata": {},
   "outputs": [],
   "source": [
    "umap(path_original_data=path_original_data, n_neighbors=15)"
   ]
  },
  {
   "cell_type": "code",
   "execution_count": null,
   "id": "9cae8114-966d-4bfd-9c0d-0bada7b5daac",
   "metadata": {},
   "outputs": [],
   "source": [
    "#Alternative:\n",
    "# tsne(path_original_data=path_original_data, perplexity=45)"
   ]
  },
  {
   "cell_type": "code",
   "execution_count": null,
   "id": "dafa5a51-be6a-421b-a87c-052fb1622d63",
   "metadata": {},
   "outputs": [],
   "source": [
    "dbscan(\"umap_output.csv\", eps=1, min_samples=15)"
   ]
  },
  {
   "cell_type": "code",
   "execution_count": null,
   "id": "18f49ef4-2005-4b53-915e-33c9705c31a3",
   "metadata": {
    "scrolled": true
   },
   "outputs": [],
   "source": [
    "compare_dbscan_labels(\"comparison_labels.csv\")"
   ]
  },
  {
   "cell_type": "code",
   "execution_count": null,
   "id": "b57ef609-b323-4a21-bdb0-adf0f1fcfe5f",
   "metadata": {},
   "outputs": [],
   "source": [
    "# Alternative:\n",
    "#hdbscan(\"umap_output.csv\", min_cluster_size=15, plot=True)"
   ]
  },
  {
   "cell_type": "code",
   "execution_count": null,
   "id": "da197e2a-1138-48c8-9e87-1a16430e1fe9",
   "metadata": {
    "scrolled": true
   },
   "outputs": [],
   "source": [
    "# Alternative:\n",
    "#compare_hdbscan_labels(\"comparison_labels.csv\")"
   ]
  },
  {
   "cell_type": "code",
   "execution_count": null,
   "id": "178459e0-d34b-4a36-b6b7-51b6dc0f5649",
   "metadata": {},
   "outputs": [],
   "source": [
    "find_cluster_differences(path_original_data=path_original_data,clusters=[0,1])"
   ]
  },
  {
   "cell_type": "code",
   "execution_count": null,
   "id": "b04f4e88-7c1b-4edc-9dfe-f7886acc49e0",
   "metadata": {},
   "outputs": [],
   "source": [
    "get_mutual_information(path_original_data,clusters=[0,1])"
   ]
  },
  {
   "cell_type": "code",
   "execution_count": null,
   "id": "b46d601b-46f2-49d0-b004-ca8755e3fd78",
   "metadata": {},
   "outputs": [],
   "source": [
    "# Optional:\n",
    "# split_data(path_original_data, n_splits=5)"
   ]
  },
  {
   "cell_type": "code",
   "execution_count": null,
   "id": "a2fc19a6-5da2-40e4-b834-4fdbadf0ff58",
   "metadata": {},
   "outputs": [],
   "source": [
    "# feature_selection: PFA = 0, random features = 1 or all features = 2\n",
    "# number_sweeps: number of sweeps for training\n",
    "# clusters: list of clusters to be considered in the calculation. If empty, all clusters are considered\n",
    "# n_highest_mutual_information:  number of features with the highest mutual information to select. Default value -1 selects all principal features.\n",
    "\n",
    "validate_feature_selection(path_original_data,number_sweeps=20, n_highest_mutual_information=5, feature_selection=0, clusters=[0,1])"
   ]
  },
  {
   "cell_type": "code",
   "execution_count": null,
   "id": "cb93ac53-dc92-4ebe-b425-d09df78cb7fc",
   "metadata": {
    "scrolled": true
   },
   "outputs": [],
   "source": [
    "shaply_explanation(path_original_data, n_highest_mutual_information=1, clusters=[0,1])"
   ]
  },
  {
   "cell_type": "code",
   "execution_count": null,
   "id": "a259c4f3-5f15-4b3f-89dc-0bbf971ac5aa",
   "metadata": {},
   "outputs": [],
   "source": [
    "#Alternative\n",
    "tree_explanation(path_original_data, n_highest_mutual_information=1, clusters=[0,1], min_samples_leaf=100)"
   ]
  }
 ],
 "metadata": {
  "kernelspec": {
   "display_name": "Python 3 (ipykernel)",
   "language": "python",
   "name": "python3"
  },
  "language_info": {
   "codemirror_mode": {
    "name": "ipython",
    "version": 3
   },
   "file_extension": ".py",
   "mimetype": "text/x-python",
   "name": "python",
   "nbconvert_exporter": "python",
   "pygments_lexer": "ipython3",
   "version": "3.11.4"
  }
 },
 "nbformat": 4,
 "nbformat_minor": 5
}
