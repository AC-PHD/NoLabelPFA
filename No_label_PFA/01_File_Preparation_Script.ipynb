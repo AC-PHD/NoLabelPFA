{
 "cells": [
  {
   "cell_type": "code",
   "execution_count": 1,
   "id": "32fb8308-a9d1-4314-87d0-cbef0f250a00",
   "metadata": {},
   "outputs": [
    {
     "name": "stdout",
     "output_type": "stream",
     "text": [
      "Die Datei hat 21352 Zeilen und 15458 Spalten.\n"
     ]
    }
   ],
   "source": [
    "import pandas as pd\n",
    "\n",
    "df = pd.read_csv(\"Young_as_Young_and_Old_as_Old.csv\")\n",
    "anzahl_zeilen, anzahl_spalten = df.shape\n",
    "print(f\"Die Datei hat {anzahl_zeilen} Zeilen und {anzahl_spalten} Spalten.\")"
   ]
  },
  {
   "cell_type": "code",
   "execution_count": 2,
   "id": "386514ed-ee64-4374-ae0d-abcebd5eb432",
   "metadata": {},
   "outputs": [
    {
     "name": "stdout",
     "output_type": "stream",
     "text": [
      "CSV-File has 5000 Rows.\n"
     ]
    }
   ],
   "source": [
    "#creating TESTFILE: FOR TESTING PURPOSES ONLY!!! PLEASE DO NOT USE IF YOU WANT TO PERFORM A FULL ANALYSIS\n",
    "\n",
    "input_filepath = 'Young_as_Young_and_Old_as_Old.csv'\n",
    "output_filepath = 'Test_File.csv'\n",
    "\n",
    "with open(input_filepath, 'r') as infile:\n",
    "    lines = [next(infile) for _ in range(5000)]\n",
    "    \n",
    "with open(output_filepath, 'w') as outfile:\n",
    "    outfile.writelines(lines)\n",
    "\n",
    "with open(output_filepath, 'r') as file:\n",
    "    num_rows = sum(1 for line in file)\n",
    "\n",
    "print(f\"CSV-File has {num_rows} Rows.\")"
   ]
  },
  {
   "cell_type": "code",
   "execution_count": 6,
   "id": "6ad5f5e3-77e2-4a61-a85a-7f783564ddad",
   "metadata": {},
   "outputs": [],
   "source": [
    "#creating preprocessed_data.csv\n",
    "import pandas as pd\n",
    "import csv\n",
    "\n",
    "def delete_first_row_and_column(filename, new_filename):\n",
    "    with open(filename, 'r', newline='') as csv_file:\n",
    "        reader = csv.reader(csv_file)\n",
    "        rows = [row[1:] for index, row in enumerate(reader) if index > 0]\n",
    "\n",
    "    with open(new_filename, 'w', newline='') as csv_file:\n",
    "        writer = csv.writer(csv_file)\n",
    "        writer.writerows(rows)\n",
    "\n",
    "#Please select/insert your filename\n",
    "filename = 'Young_as_Young_and_Old_as_Old.csv' \n",
    "#filename = 'Test_File.csv' \n",
    "\n",
    "new_filename = 'preprocessed_data.csv'  \n",
    "delete_first_row_and_column(filename, new_filename)"
   ]
  },
  {
   "cell_type": "code",
   "execution_count": 7,
   "id": "54b3f782-304e-4ecb-a864-9bf7bf79d7bb",
   "metadata": {},
   "outputs": [
    {
     "name": "stdout",
     "output_type": "stream",
     "text": [
      "   0      1      2      3      4      5      6      7      8      9      ...  \\\n",
      "0  Young  Young  Young  Young  Young  Young  Young  Young  Young  Young  ...   \n",
      "\n",
      "  15447 15448 15449 15450 15451 15452 15453 15454 15455 15456  \n",
      "0   Old   Old   Old   Old   Old   Old   Old   Old   Old   Old  \n",
      "\n",
      "[1 rows x 15457 columns]\n"
     ]
    }
   ],
   "source": [
    "#creating comparison_labels.csv\n",
    "\n",
    "#Please select/insert your filename\n",
    "data = pd.read_csv('Young_as_Young_and_Old_as_Old.csv', nrows=1, header=None)\n",
    "#data = pd.read_csv('Test_File.csv', nrows=1, header=None)\n",
    "\n",
    "data = data.drop(data.columns[0], axis=1)\n",
    "data.to_csv('comparison_labels.csv', index=False, header=False)\n",
    "\n",
    "#check\n",
    "data_check = pd.read_csv('comparison_labels.csv', header=None)\n",
    "print(data_check)"
   ]
  },
  {
   "cell_type": "code",
   "execution_count": 8,
   "id": "3783fed4-07df-4419-a607-260aeb5b93c8",
   "metadata": {},
   "outputs": [
    {
     "name": "stdout",
     "output_type": "stream",
     "text": [
      "   Index   feature name\n",
      "0      1     AL627309.1\n",
      "1      2     AP006222.2\n",
      "2      3  RP4-669L17.10\n",
      "3      4  RP11-206L10.3\n",
      "4      5  RP11-206L10.2\n",
      "5      6  RP11-206L10.9\n",
      "6      7         FAM87B\n",
      "7      8      LINC00115\n",
      "8      9         FAM41C\n",
      "9     10    RP11-54O7.1\n"
     ]
    }
   ],
   "source": [
    "#creating Genname.csv\n",
    "\n",
    "#Please select/insert your filename\n",
    "input_file = \"Young_as_Young_and_Old_as_Old.csv\"\n",
    "#input_file = \"Test_File.csv\"\n",
    "\n",
    "df = pd.read_csv(input_file)\n",
    "genname = df.iloc[:,0]\n",
    "genname = genname[1:]\n",
    "df_genname = pd.DataFrame(genname).reset_index()\n",
    "df_genname.columns = ['Index', 'feature name']\n",
    "df_genname.to_csv(\"Genname.csv\", index=False)\n",
    "\n",
    "#check\n",
    "df_check = pd.read_csv('Genname.csv')\n",
    "print(df_check.head(10))"
   ]
  }
 ],
 "metadata": {
  "kernelspec": {
   "display_name": "Python 3 (ipykernel)",
   "language": "python",
   "name": "python3"
  },
  "language_info": {
   "codemirror_mode": {
    "name": "ipython",
    "version": 3
   },
   "file_extension": ".py",
   "mimetype": "text/x-python",
   "name": "python",
   "nbconvert_exporter": "python",
   "pygments_lexer": "ipython3",
   "version": "3.11.4"
  }
 },
 "nbformat": 4,
 "nbformat_minor": 5
}
